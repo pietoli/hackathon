{
 "cells": [
  {
   "attachments": {},
   "cell_type": "markdown",
   "metadata": {},
   "source": [
    "## Wyszukiwanie artykułów przez słowa kluczowe"
   ]
  },
  {
   "cell_type": "code",
   "execution_count": 1,
   "metadata": {},
   "outputs": [
    {
     "name": "stdout",
     "output_type": "stream",
     "text": [
      "{'header': {'type': 'esearch', 'version': '0.3'}, 'esearchresult': {'count': '7', 'retmax': '7', 'retstart': '0', 'idlist': ['33335035', '28450595', '28450594', '28450593', '19589974', '12970526', '11588233'], 'translationset': [{'from': 'science[journal]', 'to': '\"Science\"[Journal:__jid0404511] OR \"Science (1979)\"[Journal:__jid8000640]'}, {'from': 'autism', 'to': '\"autism\\'s\"[All Fields] OR \"autisms\"[All Fields] OR \"autistic disorder\"[MeSH Terms] OR (\"autistic\"[All Fields] AND \"disorder\"[All Fields]) OR \"autistic disorder\"[All Fields] OR \"autism\"[All Fields]'}, {'from': 'vaccinations', 'to': '\"vaccin\"[Supplementary Concept] OR \"vaccin\"[All Fields] OR \"vaccination\"[MeSH Terms] OR \"vaccination\"[All Fields] OR \"vaccinable\"[All Fields] OR \"vaccinal\"[All Fields] OR \"vaccinate\"[All Fields] OR \"vaccinated\"[All Fields] OR \"vaccinates\"[All Fields] OR \"vaccinating\"[All Fields] OR \"vaccinations\"[All Fields] OR \"vaccination\\'s\"[All Fields] OR \"vaccinator\"[All Fields] OR \"vaccinators\"[All Fields] OR \"vaccine\\'s\"[All Fields] OR \"vaccined\"[All Fields] OR \"vaccines\"[MeSH Terms] OR \"vaccines\"[All Fields] OR \"vaccine\"[All Fields] OR \"vaccins\"[All Fields]'}], 'querytranslation': '(\"science\"[Journal] OR \"science 1979\"[Journal]) AND (\"autism s\"[All Fields] OR \"autisms\"[All Fields] OR \"autistic disorder\"[MeSH Terms] OR (\"autistic\"[All Fields] AND \"disorder\"[All Fields]) OR \"autistic disorder\"[All Fields] OR \"autism\"[All Fields]) AND (\"vaccin\"[Supplementary Concept] OR \"vaccin\"[All Fields] OR \"vaccination\"[MeSH Terms] OR \"vaccination\"[All Fields] OR \"vaccinable\"[All Fields] OR \"vaccinal\"[All Fields] OR \"vaccinate\"[All Fields] OR \"vaccinated\"[All Fields] OR \"vaccinates\"[All Fields] OR \"vaccinating\"[All Fields] OR \"vaccinations\"[All Fields] OR \"vaccination s\"[All Fields] OR \"vaccinator\"[All Fields] OR \"vaccinators\"[All Fields] OR \"vaccine s\"[All Fields] OR \"vaccined\"[All Fields] OR \"vaccines\"[MeSH Terms] OR \"vaccines\"[All Fields] OR \"vaccine\"[All Fields] OR \"vaccins\"[All Fields])'}}\n"
     ]
    }
   ],
   "source": [
    "import requests\n",
    "\n",
    "search_term = \"autism\"\n",
    "search_term = \"science[journal]+AND+breast+cancer+AND+2008[pdat]&usehistory=y\"\n",
    "search_term = \"science[journal]+AND+autism+AND+vaccinations\"\n",
    "url = f\"https://eutils.ncbi.nlm.nih.gov/entrez/eutils/esearch.fcgi?db=pubmed&term={search_term}&retmode=json\"\n",
    "\n",
    "response = requests.get(url)\n",
    "\n",
    "if response.status_code == 200:\n",
    "    data = response.json()\n",
    "    print(data)\n",
    "else:\n",
    "    print(f\"Error: {response.status_code}\")"
   ]
  },
  {
   "cell_type": "code",
   "execution_count": 2,
   "metadata": {},
   "outputs": [
    {
     "data": {
      "text/plain": [
       "{'header': {'type': 'esearch', 'version': '0.3'},\n",
       " 'esearchresult': {'count': '7',\n",
       "  'retmax': '7',\n",
       "  'retstart': '0',\n",
       "  'idlist': ['33335035',\n",
       "   '28450595',\n",
       "   '28450594',\n",
       "   '28450593',\n",
       "   '19589974',\n",
       "   '12970526',\n",
       "   '11588233'],\n",
       "  'translationset': [{'from': 'science[journal]',\n",
       "    'to': '\"Science\"[Journal:__jid0404511] OR \"Science (1979)\"[Journal:__jid8000640]'},\n",
       "   {'from': 'autism',\n",
       "    'to': '\"autism\\'s\"[All Fields] OR \"autisms\"[All Fields] OR \"autistic disorder\"[MeSH Terms] OR (\"autistic\"[All Fields] AND \"disorder\"[All Fields]) OR \"autistic disorder\"[All Fields] OR \"autism\"[All Fields]'},\n",
       "   {'from': 'vaccinations',\n",
       "    'to': '\"vaccin\"[Supplementary Concept] OR \"vaccin\"[All Fields] OR \"vaccination\"[MeSH Terms] OR \"vaccination\"[All Fields] OR \"vaccinable\"[All Fields] OR \"vaccinal\"[All Fields] OR \"vaccinate\"[All Fields] OR \"vaccinated\"[All Fields] OR \"vaccinates\"[All Fields] OR \"vaccinating\"[All Fields] OR \"vaccinations\"[All Fields] OR \"vaccination\\'s\"[All Fields] OR \"vaccinator\"[All Fields] OR \"vaccinators\"[All Fields] OR \"vaccine\\'s\"[All Fields] OR \"vaccined\"[All Fields] OR \"vaccines\"[MeSH Terms] OR \"vaccines\"[All Fields] OR \"vaccine\"[All Fields] OR \"vaccins\"[All Fields]'}],\n",
       "  'querytranslation': '(\"science\"[Journal] OR \"science 1979\"[Journal]) AND (\"autism s\"[All Fields] OR \"autisms\"[All Fields] OR \"autistic disorder\"[MeSH Terms] OR (\"autistic\"[All Fields] AND \"disorder\"[All Fields]) OR \"autistic disorder\"[All Fields] OR \"autism\"[All Fields]) AND (\"vaccin\"[Supplementary Concept] OR \"vaccin\"[All Fields] OR \"vaccination\"[MeSH Terms] OR \"vaccination\"[All Fields] OR \"vaccinable\"[All Fields] OR \"vaccinal\"[All Fields] OR \"vaccinate\"[All Fields] OR \"vaccinated\"[All Fields] OR \"vaccinates\"[All Fields] OR \"vaccinating\"[All Fields] OR \"vaccinations\"[All Fields] OR \"vaccination s\"[All Fields] OR \"vaccinator\"[All Fields] OR \"vaccinators\"[All Fields] OR \"vaccine s\"[All Fields] OR \"vaccined\"[All Fields] OR \"vaccines\"[MeSH Terms] OR \"vaccines\"[All Fields] OR \"vaccine\"[All Fields] OR \"vaccins\"[All Fields])'}}"
      ]
     },
     "execution_count": 2,
     "metadata": {},
     "output_type": "execute_result"
    }
   ],
   "source": [
    "data"
   ]
  },
  {
   "attachments": {},
   "cell_type": "markdown",
   "metadata": {},
   "source": [
    "### ZAGLĄDANIE DO ARTYKUŁU"
   ]
  },
  {
   "cell_type": "code",
   "execution_count": 30,
   "metadata": {},
   "outputs": [],
   "source": [
    "pmid = 32940822 #36758091"
   ]
  },
  {
   "cell_type": "code",
   "execution_count": 31,
   "metadata": {},
   "outputs": [],
   "source": [
    "url = f\"https://eutils.ncbi.nlm.nih.gov/entrez/eutils/esummary.fcgi?db=pubmed&id={pmid}&retmode=json\"\n",
    "\n",
    "response = requests.get(url)\n"
   ]
  },
  {
   "cell_type": "code",
   "execution_count": 32,
   "metadata": {},
   "outputs": [
    {
     "name": "stdout",
     "output_type": "stream",
     "text": [
      "{'header': {'type': 'esummary', 'version': '0.3'}, 'result': {'uids': ['32940822'], '32940822': {'uid': '32940822', 'pubdate': '2021 Dec', 'epubdate': '', 'source': 'J Autism Dev Disord', 'authors': [{'name': 'Thapar A', 'authtype': 'Author', 'clusterid': ''}, {'name': 'Rutter M', 'authtype': 'Author', 'clusterid': ''}], 'lastauthor': 'Rutter M', 'title': 'Genetic Advances in Autism.', 'sorttitle': 'genetic advances in autism', 'volume': '51', 'issue': '12', 'pages': '4321-4332', 'lang': ['eng'], 'nlmuniqueid': '7904301', 'issn': '0162-3257', 'essn': '1573-3432', 'pubtype': ['Journal Article', 'Review'], 'recordstatus': 'PubMed - indexed for MEDLINE', 'pubstatus': '4', 'articleids': [{'idtype': 'pubmed', 'idtypen': 1, 'value': '32940822'}, {'idtype': 'pmc', 'idtypen': 8, 'value': 'PMC8531042'}, {'idtype': 'pmcid', 'idtypen': 5, 'value': 'pmc-id: PMC8531042;'}, {'idtype': 'doi', 'idtypen': 3, 'value': '10.1007/s10803-020-04685-z'}, {'idtype': 'pii', 'idtypen': 4, 'value': '10.1007/s10803-020-04685-z'}], 'history': [{'pubstatus': 'pubmed', 'date': '2020/09/18 06:00'}, {'pubstatus': 'medline', 'date': '2021/10/26 06:00'}, {'pubstatus': 'entrez', 'date': '2020/09/17 12:17'}], 'references': [], 'attributes': ['Has Abstract'], 'pmcrefcount': 87, 'fulljournalname': 'Journal of autism and developmental disorders', 'elocationid': 'doi: 10.1007/s10803-020-04685-z', 'doctype': 'citation', 'srccontriblist': [], 'booktitle': '', 'medium': '', 'edition': '', 'publisherlocation': '', 'publishername': '', 'srcdate': '', 'reportnumber': '', 'availablefromurl': '', 'locationlabel': '', 'doccontriblist': [], 'docdate': '', 'bookname': '', 'chapter': '', 'sortpubdate': '2021/12/01 00:00', 'sortfirstauthor': 'Thapar A', 'vernaculartitle': ''}}}\n"
     ]
    }
   ],
   "source": [
    "if response.status_code == 200:\n",
    "    data = response.json()\n",
    "    print(data)\n",
    "else:\n",
    "    print(f\"Error: {response.status_code}\")"
   ]
  },
  {
   "cell_type": "code",
   "execution_count": 33,
   "metadata": {},
   "outputs": [
    {
     "data": {
      "text/plain": [
       "{'header': {'type': 'esummary', 'version': '0.3'},\n",
       " 'result': {'uids': ['32940822'],\n",
       "  '32940822': {'uid': '32940822',\n",
       "   'pubdate': '2021 Dec',\n",
       "   'epubdate': '',\n",
       "   'source': 'J Autism Dev Disord',\n",
       "   'authors': [{'name': 'Thapar A', 'authtype': 'Author', 'clusterid': ''},\n",
       "    {'name': 'Rutter M', 'authtype': 'Author', 'clusterid': ''}],\n",
       "   'lastauthor': 'Rutter M',\n",
       "   'title': 'Genetic Advances in Autism.',\n",
       "   'sorttitle': 'genetic advances in autism',\n",
       "   'volume': '51',\n",
       "   'issue': '12',\n",
       "   'pages': '4321-4332',\n",
       "   'lang': ['eng'],\n",
       "   'nlmuniqueid': '7904301',\n",
       "   'issn': '0162-3257',\n",
       "   'essn': '1573-3432',\n",
       "   'pubtype': ['Journal Article', 'Review'],\n",
       "   'recordstatus': 'PubMed - indexed for MEDLINE',\n",
       "   'pubstatus': '4',\n",
       "   'articleids': [{'idtype': 'pubmed', 'idtypen': 1, 'value': '32940822'},\n",
       "    {'idtype': 'pmc', 'idtypen': 8, 'value': 'PMC8531042'},\n",
       "    {'idtype': 'pmcid', 'idtypen': 5, 'value': 'pmc-id: PMC8531042;'},\n",
       "    {'idtype': 'doi', 'idtypen': 3, 'value': '10.1007/s10803-020-04685-z'},\n",
       "    {'idtype': 'pii', 'idtypen': 4, 'value': '10.1007/s10803-020-04685-z'}],\n",
       "   'history': [{'pubstatus': 'pubmed', 'date': '2020/09/18 06:00'},\n",
       "    {'pubstatus': 'medline', 'date': '2021/10/26 06:00'},\n",
       "    {'pubstatus': 'entrez', 'date': '2020/09/17 12:17'}],\n",
       "   'references': [],\n",
       "   'attributes': ['Has Abstract'],\n",
       "   'pmcrefcount': 87,\n",
       "   'fulljournalname': 'Journal of autism and developmental disorders',\n",
       "   'elocationid': 'doi: 10.1007/s10803-020-04685-z',\n",
       "   'doctype': 'citation',\n",
       "   'srccontriblist': [],\n",
       "   'booktitle': '',\n",
       "   'medium': '',\n",
       "   'edition': '',\n",
       "   'publisherlocation': '',\n",
       "   'publishername': '',\n",
       "   'srcdate': '',\n",
       "   'reportnumber': '',\n",
       "   'availablefromurl': '',\n",
       "   'locationlabel': '',\n",
       "   'doccontriblist': [],\n",
       "   'docdate': '',\n",
       "   'bookname': '',\n",
       "   'chapter': '',\n",
       "   'sortpubdate': '2021/12/01 00:00',\n",
       "   'sortfirstauthor': 'Thapar A',\n",
       "   'vernaculartitle': ''}}}"
      ]
     },
     "execution_count": 33,
     "metadata": {},
     "output_type": "execute_result"
    }
   ],
   "source": [
    "data"
   ]
  },
  {
   "cell_type": "code",
   "execution_count": null,
   "metadata": {},
   "outputs": [],
   "source": [
    "\"availablefromurl\""
   ]
  },
  {
   "cell_type": "code",
   "execution_count": 24,
   "metadata": {},
   "outputs": [
    {
     "ename": "JSONDecodeError",
     "evalue": "Expecting value: line 1 column 1 (char 0)",
     "output_type": "error",
     "traceback": [
      "\u001b[0;31m---------------------------------------------------------------------------\u001b[0m",
      "\u001b[0;31mJSONDecodeError\u001b[0m                           Traceback (most recent call last)",
      "File \u001b[0;32m~/repos/hack-to-the-rescue-hackathon/.venv/lib/python3.10/site-packages/requests/models.py:971\u001b[0m, in \u001b[0;36mResponse.json\u001b[0;34m(self, **kwargs)\u001b[0m\n\u001b[1;32m    970\u001b[0m \u001b[39mtry\u001b[39;00m:\n\u001b[0;32m--> 971\u001b[0m     \u001b[39mreturn\u001b[39;00m complexjson\u001b[39m.\u001b[39;49mloads(\u001b[39mself\u001b[39;49m\u001b[39m.\u001b[39;49mtext, \u001b[39m*\u001b[39;49m\u001b[39m*\u001b[39;49mkwargs)\n\u001b[1;32m    972\u001b[0m \u001b[39mexcept\u001b[39;00m JSONDecodeError \u001b[39mas\u001b[39;00m e:\n\u001b[1;32m    973\u001b[0m     \u001b[39m# Catch JSON-related errors and raise as requests.JSONDecodeError\u001b[39;00m\n\u001b[1;32m    974\u001b[0m     \u001b[39m# This aliases json.JSONDecodeError and simplejson.JSONDecodeError\u001b[39;00m\n",
      "File \u001b[0;32m~/python/Python-3.10.10/Python/lib/python3.10/json/__init__.py:346\u001b[0m, in \u001b[0;36mloads\u001b[0;34m(s, cls, object_hook, parse_float, parse_int, parse_constant, object_pairs_hook, **kw)\u001b[0m\n\u001b[1;32m    343\u001b[0m \u001b[39mif\u001b[39;00m (\u001b[39mcls\u001b[39m \u001b[39mis\u001b[39;00m \u001b[39mNone\u001b[39;00m \u001b[39mand\u001b[39;00m object_hook \u001b[39mis\u001b[39;00m \u001b[39mNone\u001b[39;00m \u001b[39mand\u001b[39;00m\n\u001b[1;32m    344\u001b[0m         parse_int \u001b[39mis\u001b[39;00m \u001b[39mNone\u001b[39;00m \u001b[39mand\u001b[39;00m parse_float \u001b[39mis\u001b[39;00m \u001b[39mNone\u001b[39;00m \u001b[39mand\u001b[39;00m\n\u001b[1;32m    345\u001b[0m         parse_constant \u001b[39mis\u001b[39;00m \u001b[39mNone\u001b[39;00m \u001b[39mand\u001b[39;00m object_pairs_hook \u001b[39mis\u001b[39;00m \u001b[39mNone\u001b[39;00m \u001b[39mand\u001b[39;00m \u001b[39mnot\u001b[39;00m kw):\n\u001b[0;32m--> 346\u001b[0m     \u001b[39mreturn\u001b[39;00m _default_decoder\u001b[39m.\u001b[39;49mdecode(s)\n\u001b[1;32m    347\u001b[0m \u001b[39mif\u001b[39;00m \u001b[39mcls\u001b[39m \u001b[39mis\u001b[39;00m \u001b[39mNone\u001b[39;00m:\n",
      "File \u001b[0;32m~/python/Python-3.10.10/Python/lib/python3.10/json/decoder.py:337\u001b[0m, in \u001b[0;36mJSONDecoder.decode\u001b[0;34m(self, s, _w)\u001b[0m\n\u001b[1;32m    333\u001b[0m \u001b[39m\u001b[39m\u001b[39m\"\"\"Return the Python representation of ``s`` (a ``str`` instance\u001b[39;00m\n\u001b[1;32m    334\u001b[0m \u001b[39mcontaining a JSON document).\u001b[39;00m\n\u001b[1;32m    335\u001b[0m \n\u001b[1;32m    336\u001b[0m \u001b[39m\"\"\"\u001b[39;00m\n\u001b[0;32m--> 337\u001b[0m obj, end \u001b[39m=\u001b[39m \u001b[39mself\u001b[39;49m\u001b[39m.\u001b[39;49mraw_decode(s, idx\u001b[39m=\u001b[39;49m_w(s, \u001b[39m0\u001b[39;49m)\u001b[39m.\u001b[39;49mend())\n\u001b[1;32m    338\u001b[0m end \u001b[39m=\u001b[39m _w(s, end)\u001b[39m.\u001b[39mend()\n",
      "File \u001b[0;32m~/python/Python-3.10.10/Python/lib/python3.10/json/decoder.py:355\u001b[0m, in \u001b[0;36mJSONDecoder.raw_decode\u001b[0;34m(self, s, idx)\u001b[0m\n\u001b[1;32m    354\u001b[0m \u001b[39mexcept\u001b[39;00m \u001b[39mStopIteration\u001b[39;00m \u001b[39mas\u001b[39;00m err:\n\u001b[0;32m--> 355\u001b[0m     \u001b[39mraise\u001b[39;00m JSONDecodeError(\u001b[39m\"\u001b[39m\u001b[39mExpecting value\u001b[39m\u001b[39m\"\u001b[39m, s, err\u001b[39m.\u001b[39mvalue) \u001b[39mfrom\u001b[39;00m \u001b[39mNone\u001b[39;00m\n\u001b[1;32m    356\u001b[0m \u001b[39mreturn\u001b[39;00m obj, end\n",
      "\u001b[0;31mJSONDecodeError\u001b[0m: Expecting value: line 1 column 1 (char 0)",
      "\nDuring handling of the above exception, another exception occurred:\n",
      "\u001b[0;31mJSONDecodeError\u001b[0m                           Traceback (most recent call last)",
      "Cell \u001b[0;32mIn[24], line 6\u001b[0m\n\u001b[1;32m      3\u001b[0m response \u001b[39m=\u001b[39m requests\u001b[39m.\u001b[39mget(url)\n\u001b[1;32m      5\u001b[0m \u001b[39mif\u001b[39;00m response\u001b[39m.\u001b[39mstatus_code \u001b[39m==\u001b[39m \u001b[39m200\u001b[39m:\n\u001b[0;32m----> 6\u001b[0m     data \u001b[39m=\u001b[39m response\u001b[39m.\u001b[39;49mjson()\n\u001b[1;32m      7\u001b[0m     \u001b[39mprint\u001b[39m(data)\n\u001b[1;32m      8\u001b[0m \u001b[39melse\u001b[39;00m:\n",
      "File \u001b[0;32m~/repos/hack-to-the-rescue-hackathon/.venv/lib/python3.10/site-packages/requests/models.py:975\u001b[0m, in \u001b[0;36mResponse.json\u001b[0;34m(self, **kwargs)\u001b[0m\n\u001b[1;32m    971\u001b[0m     \u001b[39mreturn\u001b[39;00m complexjson\u001b[39m.\u001b[39mloads(\u001b[39mself\u001b[39m\u001b[39m.\u001b[39mtext, \u001b[39m*\u001b[39m\u001b[39m*\u001b[39mkwargs)\n\u001b[1;32m    972\u001b[0m \u001b[39mexcept\u001b[39;00m JSONDecodeError \u001b[39mas\u001b[39;00m e:\n\u001b[1;32m    973\u001b[0m     \u001b[39m# Catch JSON-related errors and raise as requests.JSONDecodeError\u001b[39;00m\n\u001b[1;32m    974\u001b[0m     \u001b[39m# This aliases json.JSONDecodeError and simplejson.JSONDecodeError\u001b[39;00m\n\u001b[0;32m--> 975\u001b[0m     \u001b[39mraise\u001b[39;00m RequestsJSONDecodeError(e\u001b[39m.\u001b[39mmsg, e\u001b[39m.\u001b[39mdoc, e\u001b[39m.\u001b[39mpos)\n",
      "\u001b[0;31mJSONDecodeError\u001b[0m: Expecting value: line 1 column 1 (char 0)"
     ]
    }
   ],
   "source": [
    "url = f\"https://eutils.ncbi.nlm.nih.gov/entrez/eutils/efetch.fcgi?db=pubmed&id={pmid}&rettype=fulltext&retmode=text\"\n",
    "\n",
    "response = requests.get(url)\n",
    "\n",
    "if response.status_code == 200:\n",
    "    data = response.json()\n",
    "    print(data)\n",
    "else:\n",
    "    print(f\"Error: {response.status_code}\")"
   ]
  },
  {
   "cell_type": "code",
   "execution_count": 25,
   "metadata": {},
   "outputs": [
    {
     "data": {
      "text/plain": [
       "'https://eutils.ncbi.nlm.nih.gov/entrez/eutils/efetch.fcgi?db=pubmed&id=36758091&rettype=fulltext&retmode=text'"
      ]
     },
     "execution_count": 25,
     "metadata": {},
     "output_type": "execute_result"
    }
   ],
   "source": [
    "url"
   ]
  },
  {
   "cell_type": "code",
   "execution_count": null,
   "metadata": {},
   "outputs": [],
   "source": []
  }
 ],
 "metadata": {
  "kernelspec": {
   "display_name": "Python 3 (ipykernel)",
   "language": "python",
   "name": "python3"
  },
  "language_info": {
   "codemirror_mode": {
    "name": "ipython",
    "version": 3
   },
   "file_extension": ".py",
   "mimetype": "text/x-python",
   "name": "python",
   "nbconvert_exporter": "python",
   "pygments_lexer": "ipython3",
   "version": "3.10.11"
  }
 },
 "nbformat": 4,
 "nbformat_minor": 4
}
