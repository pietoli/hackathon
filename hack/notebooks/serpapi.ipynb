{
 "cells": [
  {
   "cell_type": "code",
   "execution_count": 38,
   "id": "68d56977-44ed-439a-a449-28f6fae77db1",
   "metadata": {},
   "outputs": [],
   "source": [
    "from serpapi import GoogleSearch\n",
    "from urllib.parse import urlsplit, parse_qsl\n",
    "import pandas as pd"
   ]
  },
  {
   "cell_type": "code",
   "execution_count": 39,
   "id": "a00f24ad-718e-44d6-b59f-e1e0135cb2de",
   "metadata": {},
   "outputs": [],
   "source": [
    " params = {\n",
    "        \"api_key\": \"74012405dba881f30c40f859ee26d02de66f494bf320816f8f50923cba9b78d2\",                     # https://serpapi.com/manage-api-key\n",
    "        \"engine\": \"google_scholar\",  # profile results search engine\n",
    "         \"q\": \"Autism and miracle mineral solution\",             # search query\n",
    "     \"num\":300,\n",
    "    }"
   ]
  },
  {
   "cell_type": "code",
   "execution_count": 40,
   "id": "867b8200-8c97-4afb-976b-142544513169",
   "metadata": {},
   "outputs": [],
   "source": [
    "search = GoogleSearch(params)"
   ]
  },
  {
   "cell_type": "code",
   "execution_count": 41,
   "id": "1bfdd5d3-8e45-4271-9138-e5190f06511f",
   "metadata": {},
   "outputs": [],
   "source": [
    "results = search.get_dict()"
   ]
  },
  {
   "cell_type": "code",
   "execution_count": 46,
   "id": "b8016d96-2359-4e28-8eee-7ec2613e7cc4",
   "metadata": {},
   "outputs": [
    {
     "name": "stdout",
     "output_type": "stream",
     "text": [
      "https://sunfieldcenter.com/beware-of-fringe-therapies-for-autism/\n",
      "https://www.ncbi.nlm.nih.gov/pmc/articles/PMC7982344/\n",
      "https://www.mdpi.com/508088\n",
      "https://link.springer.com/chapter/10.1007/978-3-319-71210-9_9\n",
      "https://asatonline.org/for-parents/becoming-a-savvy-consumer/is-there-science-behind-that-bleach-therapy/\n",
      "https://www.sciencedirect.com/science/article/pii/S0735675720307981\n",
      "https://www.sciencedirect.com/science/article/pii/S0190740919303329\n",
      "https://books.google.com/books?hl=en&lr=&id=8X4SBQAAQBAJ&oi=fnd&pg=PR6&dq=Autism+and+miracle+mineral+solution&ots=W-kHDV4tM-&sig=79PfTWIuz6d43y-XTEUv2Izmgw8\n",
      "https://lions-talk-science.org/2021/06/02/recycling-pseudoscience-for-the-coronavirus-pandemic/\n",
      "https://www.ncbi.nlm.nih.gov/pmc/articles/PMC5044466/\n",
      "https://www.tandfonline.com/doi/full/10.31887/DCNS.2017.19.4/mdavidson?scroll=top&needAccess=true&role=tab\n",
      "None\n",
      "https://search.proquest.com/openview/b3d4eac8f5d7b7cef3363805a4bfd414/1?pq-origsite=gscholar&cbl=2046460\n",
      "https://journals.co.za/doi/abs/10.10520/EJC-bb7aa17df\n",
      "https://books.google.com/books?hl=en&lr=&id=rrk8DwAAQBAJ&oi=fnd&pg=PA415&dq=Autism+and+miracle+mineral+solution&ots=mi42-PaQpj&sig=E7rEfz4iDOuV_F_k189sQuoZ7c4\n",
      "https://books.google.com/books?hl=en&lr=&id=3WgBDAAAQBAJ&oi=fnd&pg=PP11&dq=Autism+and+miracle+mineral+solution&ots=Vhola0s3kj&sig=OKVe4D8Uo3xC3cjLQeZMsamgB3o\n",
      "https://scholar.ufs.ac.za/handle/11660/11536\n",
      "https://link.springer.com/article/10.1007/s12328-021-01527-y\n",
      "https://mmsforum.io/mms/1351-website-esowatch-hit-piece-on-miracle-mineral-supplement\n",
      "https://link.springer.com/article/10.1007/s11013-015-9441-z\n"
     ]
    }
   ],
   "source": [
    "results = search.get_dict()\n",
    "links = {}\n",
    "for result in results['organic_results']:\n",
    "    link = result.get(\"link\")\n",
    "    if link is not None and \"ncbi\" in link:\n",
    "             links[link] = result.get(\"title\")\n",
    "    print(link)"
   ]
  },
  {
   "cell_type": "code",
   "execution_count": 47,
   "id": "d643742f-27f1-49d0-aa62-835879625018",
   "metadata": {},
   "outputs": [
    {
     "data": {
      "text/plain": [
       "{'https://www.ncbi.nlm.nih.gov/pmc/articles/PMC7982344/': 'Harmful effects of chlorine dioxide exposure',\n",
       " 'https://www.ncbi.nlm.nih.gov/pmc/articles/PMC5044466/': 'Treatment of autism spectrum disorder in children and adolescents'}"
      ]
     },
     "execution_count": 47,
     "metadata": {},
     "output_type": "execute_result"
    }
   ],
   "source": [
    "links"
   ]
  },
  {
   "cell_type": "code",
   "execution_count": 52,
   "id": "f4145030-270e-4df7-84be-306fb6bb1a9b",
   "metadata": {},
   "outputs": [
    {
     "data": {
      "text/plain": [
       "dict_keys(['position', 'title', 'result_id', 'type', 'link', 'snippet', 'publication_info', 'resources', 'inline_links'])"
      ]
     },
     "execution_count": 52,
     "metadata": {},
     "output_type": "execute_result"
    }
   ],
   "source": [
    "results['organic_results'][0].keys()"
   ]
  },
  {
   "cell_type": "code",
   "execution_count": 53,
   "id": "365ae889-0d0f-48bb-8038-0631a2fec693",
   "metadata": {},
   "outputs": [
    {
     "data": {
      "text/plain": [
       "{'position': 0,\n",
       " 'title': 'Beware of Fringe Therapies for Autism',\n",
       " 'result_id': '4ITvUxZ0FeoJ',\n",
       " 'type': 'Html',\n",
       " 'link': 'https://sunfieldcenter.com/beware-of-fringe-therapies-for-autism/',\n",
       " 'snippet': '… Miracle Mineral Solution (MMS), also referred to as Master Mineral Solution and Miracle Mineral … as a healing solution that can cure many “ailments”, including autism. Though it is sold …',\n",
       " 'publication_info': {'summary': 'R Piper, S Reira, A Nasamran, S Naguib - sunfieldcenter.com'},\n",
       " 'resources': [{'title': 'sunfieldcenter.com',\n",
       "   'file_format': 'HTML',\n",
       "   'link': 'https://sunfieldcenter.com/beware-of-fringe-therapies-for-autism/'}],\n",
       " 'inline_links': {'serpapi_cite_link': 'https://serpapi.com/search.json?engine=google_scholar_cite&q=4ITvUxZ0FeoJ',\n",
       "  'html_version': 'https://sunfieldcenter.com/beware-of-fringe-therapies-for-autism/',\n",
       "  'related_pages_link': 'https://scholar.google.com/scholar?q=related:4ITvUxZ0FeoJ:scholar.google.com/&scioq=Autism+and+miracle+mineral+solution&hl=en&num=20&as_sdt=0,11',\n",
       "  'serpapi_related_pages_link': 'https://serpapi.com/search.json?as_sdt=0%2C11&engine=google_scholar&hl=en&num=20&q=related%3A4ITvUxZ0FeoJ%3Ascholar.google.com%2F',\n",
       "  'cached_page_link': 'https://scholar.googleusercontent.com/scholar?q=cache:4ITvUxZ0FeoJ:scholar.google.com/+Autism+and+miracle+mineral+solution&hl=en&num=20&as_sdt=0,11'}}"
      ]
     },
     "execution_count": 53,
     "metadata": {},
     "output_type": "execute_result"
    }
   ],
   "source": [
    "results['organic_results'][0]"
   ]
  },
  {
   "cell_type": "code",
   "execution_count": 68,
   "id": "4634c1e2-b560-458f-aea8-057a0d5a0a28",
   "metadata": {},
   "outputs": [
    {
     "data": {
      "text/plain": [
       "{'serpapi_cite_link': 'https://serpapi.com/search.json?engine=google_scholar_cite&q=qvRcAgugZY4J',\n",
       " 'html_version': 'https://www.ncbi.nlm.nih.gov/pmc/articles/PMC7982344/',\n",
       " 'cited_by': {'total': 18,\n",
       "  'link': 'https://scholar.google.com/scholar?cites=10260783295178273962&as_sdt=80005&sciodt=0,11&hl=en&num=20',\n",
       "  'cites_id': '10260783295178273962',\n",
       "  'serpapi_scholar_link': 'https://serpapi.com/search.json?as_sdt=80005&cites=10260783295178273962&engine=google_scholar&hl=en&num=20'},\n",
       " 'related_pages_link': 'https://scholar.google.com/scholar?q=related:qvRcAgugZY4J:scholar.google.com/&scioq=Autism+and+miracle+mineral+solution&hl=en&num=20&as_sdt=0,11',\n",
       " 'serpapi_related_pages_link': 'https://serpapi.com/search.json?as_sdt=0%2C11&engine=google_scholar&hl=en&num=20&q=related%3AqvRcAgugZY4J%3Ascholar.google.com%2F',\n",
       " 'versions': {'total': 6,\n",
       "  'link': 'https://scholar.google.com/scholar?cluster=10260783295178273962&hl=en&num=20&as_sdt=0,11',\n",
       "  'cluster_id': '10260783295178273962',\n",
       "  'serpapi_scholar_link': 'https://serpapi.com/search.json?as_sdt=0%2C11&cluster=10260783295178273962&engine=google_scholar&hl=en&num=20'}}"
      ]
     },
     "execution_count": 68,
     "metadata": {},
     "output_type": "execute_result"
    }
   ],
   "source": [
    "results['organic_results'][1]['inline_links']"
   ]
  },
  {
   "cell_type": "code",
   "execution_count": null,
   "id": "dffbdeb8-0913-4125-a714-81f4e5d06adb",
   "metadata": {},
   "outputs": [],
   "source": []
  }
 ],
 "metadata": {
  "kernelspec": {
   "display_name": "Python 3 (ipykernel)",
   "language": "python",
   "name": "python3"
  },
  "language_info": {
   "codemirror_mode": {
    "name": "ipython",
    "version": 3
   },
   "file_extension": ".py",
   "mimetype": "text/x-python",
   "name": "python",
   "nbconvert_exporter": "python",
   "pygments_lexer": "ipython3",
   "version": "3.10.11"
  }
 },
 "nbformat": 4,
 "nbformat_minor": 5
}
