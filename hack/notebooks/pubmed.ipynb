{
 "cells": [
  {
   "cell_type": "code",
   "execution_count": 8,
   "metadata": {},
   "outputs": [],
   "source": [
    "import requests\n",
    "\n",
    "search_terms = [\"autism\", \"vaccinations\"]\n",
    "filter = ''.join([f\"term={el}&\" for el in search_terms])\n",
    "url = f\"https://eutils.ncbi.nlm.nih.gov/entrez/eutils/esearch.fcgi?db=pubmed&{filter}retmode=json\""
   ]
  },
  {
   "cell_type": "code",
   "execution_count": 11,
   "metadata": {},
   "outputs": [
    {
     "data": {
      "text/plain": [
       "'https://eutils.ncbi.nlm.nih.gov/entrez/eutils/esearch.fcgi?db=pubmed&term=autism&term=vaccinations&retmode=json'"
      ]
     },
     "execution_count": 11,
     "metadata": {},
     "output_type": "execute_result"
    }
   ],
   "source": [
    "url"
   ]
  },
  {
   "cell_type": "code",
   "execution_count": 10,
   "metadata": {},
   "outputs": [
    {
     "name": "stdout",
     "output_type": "stream",
     "text": [
      "Error: 500\n"
     ]
    }
   ],
   "source": [
    "response = requests.get(url)\n",
    "\n",
    "if response.status_code == 200:\n",
    "    data = response.json()\n",
    "    print(data)\n",
    "else:\n",
    "    print(f\"Error: {response.status_code}\")"
   ]
  },
  {
   "cell_type": "code",
   "execution_count": 8,
   "metadata": {},
   "outputs": [
    {
     "data": {
      "text/plain": [
       "{'header': {'type': 'esearch', 'version': '0.3'},\n",
       " 'esearchresult': {'count': '71362',\n",
       "  'retmax': '20',\n",
       "  'retstart': '0',\n",
       "  'idlist': ['37312194',\n",
       "   '37312091',\n",
       "   '37312015',\n",
       "   '37311942',\n",
       "   '37311776',\n",
       "   '37311766',\n",
       "   '37311427',\n",
       "   '37310860',\n",
       "   '37310664',\n",
       "   '37310543',\n",
       "   '37310338',\n",
       "   '37310323',\n",
       "   '37310088',\n",
       "   '37309592',\n",
       "   '37309057',\n",
       "   '37309007',\n",
       "   '37309006',\n",
       "   '37308047',\n",
       "   '37307722',\n",
       "   '37306171'],\n",
       "  'translationset': [{'from': 'autism',\n",
       "    'to': '\"autism\\'s\"[All Fields] OR \"autisms\"[All Fields] OR \"autistic disorder\"[MeSH Terms] OR (\"autistic\"[All Fields] AND \"disorder\"[All Fields]) OR \"autistic disorder\"[All Fields] OR \"autism\"[All Fields]'}],\n",
       "  'querytranslation': '\"autism s\"[All Fields] OR \"autisms\"[All Fields] OR \"autistic disorder\"[MeSH Terms] OR (\"autistic\"[All Fields] AND \"disorder\"[All Fields]) OR \"autistic disorder\"[All Fields] OR \"autism\"[All Fields]'}}"
      ]
     },
     "execution_count": 8,
     "metadata": {},
     "output_type": "execute_result"
    }
   ],
   "source": [
    "data"
   ]
  },
  {
   "cell_type": "code",
   "execution_count": null,
   "metadata": {},
   "outputs": [],
   "source": []
  }
 ],
 "metadata": {
  "kernelspec": {
   "display_name": "Python 3 (ipykernel)",
   "language": "python",
   "name": "python3"
  },
  "language_info": {
   "codemirror_mode": {
    "name": "ipython",
    "version": 3
   },
   "file_extension": ".py",
   "mimetype": "text/x-python",
   "name": "python",
   "nbconvert_exporter": "python",
   "pygments_lexer": "ipython3",
   "version": "3.10.11"
  }
 },
 "nbformat": 4,
 "nbformat_minor": 4
}
